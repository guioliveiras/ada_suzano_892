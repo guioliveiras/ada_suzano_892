{
 "cells": [
  {
   "cell_type": "code",
   "execution_count": 36,
   "metadata": {},
   "outputs": [],
   "source": [
    "import pandas as pd\n",
    "\n",
    "df = pd.DataFrame([], columns=['nome', 'cpf', 'email'])\n",
    "df.to_excel(\"clientes.xlsx\")\n",
    "\n",
    "def cadastroCliente():\n",
    "    nome = input(\"Digite o nome: \")\n",
    "    cpf = input(\"Digite o CPF: \")\n",
    "    email = input(\"Digite o email: \")\n",
    "    cliente = {'nome': nome, 'cpf': cpf, 'email': email}\n",
    "    return [cliente]\n",
    "\n",
    "def pedeComando():\n",
    "    print()\n",
    "    print(\"Escolha uma ação\")\n",
    "    print()\n",
    "    print(\"0 - Sair do programa e salvar\")\n",
    "    print(\"1 - Cadastrar cliente\")\n",
    "    comando = int(input())\n",
    "    return comando"
   ]
  },
  {
   "cell_type": "code",
   "execution_count": 38,
   "metadata": {},
   "outputs": [
    {
     "name": "stdout",
     "output_type": "stream",
     "text": [
      "\n",
      "Escolha uma ação\n",
      "\n",
      "0 - Sair do programa e salvar\n",
      "1 - Cadastrar cliente\n",
      "Cliente cadastrado!\n",
      "\n",
      "Escolha uma ação\n",
      "\n",
      "0 - Sair do programa e salvar\n",
      "1 - Cadastrar cliente\n",
      "Dados dos clientes salvos com sucesso!\n"
     ]
    }
   ],
   "source": [
    "comando = pedeComando()\n",
    "\n",
    "while comando != 0:\n",
    "    if comando == 1:\n",
    "        df1 = pd.DataFrame(cadastroCliente())\n",
    "        df = pd.concat([df, df1], ignore_index=True)\n",
    "        # Salva o DataFrame em um arquivo Excel\n",
    "        \n",
    "        df.to_excel(\"clientes.xlsx\")\n",
    "        print(\"Cliente cadastrado!\")\n",
    "    else:\n",
    "        print(\"Comando inválido.\")\n",
    "\n",
    "    comando = pedeComando() # Pede uma nova entrada\n",
    "\n",
    "print(\"Dados dos clientes salvos com sucesso!\")"
   ]
  },
  {
   "cell_type": "code",
   "execution_count": null,
   "metadata": {},
   "outputs": [],
   "source": []
  }
 ],
 "metadata": {
  "kernelspec": {
   "display_name": "Python 3",
   "language": "python",
   "name": "python3"
  },
  "language_info": {
   "codemirror_mode": {
    "name": "ipython",
    "version": 3
   },
   "file_extension": ".py",
   "mimetype": "text/x-python",
   "name": "python",
   "nbconvert_exporter": "python",
   "pygments_lexer": "ipython3",
   "version": "3.11.1"
  },
  "orig_nbformat": 4,
  "vscode": {
   "interpreter": {
    "hash": "81afcc7207373ec109ee112b57f6cf4dae598048329d0e3a26f6852d1153459b"
   }
  }
 },
 "nbformat": 4,
 "nbformat_minor": 2
}
